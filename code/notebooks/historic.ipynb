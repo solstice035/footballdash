{
 "cells": [
  {
   "cell_type": "code",
   "execution_count": 1,
   "metadata": {},
   "outputs": [
    {
     "name": "stdout",
     "output_type": "stream",
     "text": [
      "20230124-0950\n"
     ]
    }
   ],
   "source": [
    "import os\n",
    "from pathlib import Path\n",
    "import numpy as np\n",
    "import pandas as pd\n",
    "pd.set_option('display.max_columns', 500)\n",
    "from datetime import datetime\n",
    "\n",
    "from dotenv import load_dotenv\n",
    "\n",
    "import xlsxwriter\n",
    "\n",
    "# import requests\n",
    "# import json\n",
    "\n",
    "# current date\n",
    "date = datetime.now().strftime(\"%Y%m%d-%H%M\")\n",
    "print(date) "
   ]
  },
  {
   "cell_type": "code",
   "execution_count": null,
   "metadata": {},
   "outputs": [],
   "source": [
    "# Pull data from historic data in csv files\n",
    "# link to data https://www.football-data.co.uk/mmz4281/2223/E0.csv \n",
    "# where 2223 is the year and E0 is the league\n",
    "\n",
    "# read in data\n",
    "df02223 = pd.read_csv('https://www.football-data.co.uk/mmz4281/2223/E0.csv')\n",
    "df12223 = pd.read_csv('https://www.football-data.co.uk/mmz4281/2223/E1.csv')\n",
    "df02122 = pd.read_csv('https://www.football-data.co.uk/mmz4281/2122/E0.csv')\n",
    "df12122 = pd.read_csv('https://www.football-data.co.uk/mmz4281/2122/E1.csv')\n",
    "df2021 = pd.read_csv('https://www.football-data.co.uk/mmz4281/2021/E0.csv')\n",
    "df1920 = pd.read_csv('https://www.football-data.co.uk/mmz4281/1920/E0.csv')\n",
    "df1819 = pd.read_csv('https://www.football-data.co.uk/mmz4281/1819/E0.csv')\n",
    "df1718 = pd.read_csv('https://www.football-data.co.uk/mmz4281/1718/E0.csv') \n",
    "df1617 = pd.read_csv('https://www.football-data.co.uk/mmz4281/1617/E0.csv')\n",
    "df1516 = pd.read_csv('https://www.football-data.co.uk/mmz4281/1516/E0.csv')\n",
    "df1415 = pd.read_csv('https://www.football-data.co.uk/mmz4281/1415/E0.csv')\n",
    "df1314 = pd.read_csv('https://www.football-data.co.uk/mmz4281/1314/E0.csv')\n",
    "df1213 = pd.read_csv('https://www.football-data.co.uk/mmz4281/1213/E0.csv')\n",
    "df1112 = pd.read_csv('https://www.football-data.co.uk/mmz4281/1112/E0.csv')\n",
    "df1011 = pd.read_csv('https://www.football-data.co.uk/mmz4281/1011/E0.csv')\n",
    "\n",
    "\n",
    "# create a list of dataframes\n",
    "df_list = [df02223, df12223, df02122, df12122, df2021, df1920, df1819, df1718, df1617, df1516, df1415, df1314, df1213, df1112, df1011]\n",
    "\n"
   ]
  },
  {
   "attachments": {},
   "cell_type": "markdown",
   "metadata": {},
   "source": [
    "### Alternative solution\n",
    "creating a list of csv files"
   ]
  },
  {
   "cell_type": "code",
   "execution_count": null,
   "metadata": {},
   "outputs": [],
   "source": [
    "# create list of seasons from 1993 to current year\n",
    "# where year is 2 digits\n",
    "# and the season is the year + the next year\n",
    "seasons = []\n",
    "for i in range(1993, 2023):\n",
    "    seasons.append(str(i)[2:4] + str(i+1)[2:4])\n",
    "\n",
    "# append the league to the season \n",
    "# in to format season/league.csv \n",
    "# where the league is E0, E1, E2, E3\n",
    "# and create a list of seasons and leagues\n",
    "seasons_leagues = []\n",
    "for season in seasons:\n",
    "    for league in ['E0', 'E1', 'E2', 'E3']:\n",
    "        seasons_leagues.append(season + '/' + league + '.csv')\n",
    "\n",
    "# add the path to the data \"https://www.football-data.co.uk/mmz4281/\n",
    "# to the list of seasons and leagues\n",
    "seasons_leagues = ['https://www.football-data.co.uk/mmz4281/' + season_league for season_league in seasons_leagues]\n",
    "\n",
    "\n",
    "print(seasons_leagues)"
   ]
  },
  {
   "cell_type": "code",
   "execution_count": null,
   "metadata": {},
   "outputs": [],
   "source": [
    "# load each of the csv files from seasons_leagues into a dataframe per file\n"
   ]
  },
  {
   "cell_type": "code",
   "execution_count": null,
   "metadata": {},
   "outputs": [],
   "source": [
    "# print unique values in the div column\n",
    "print(df['Div'].unique())"
   ]
  },
  {
   "cell_type": "code",
   "execution_count": null,
   "metadata": {},
   "outputs": [],
   "source": [
    "# concat dataframes into one dataframe\n",
    "df = pd.concat(df_list, ignore_index=True)\n",
    "# replace 4 digit year with 2 digit year\n",
    "df['Date'] = df['Date'].str.replace('2023', '23')\n",
    "df['Date'] = df['Date'].str.replace('2022', '22')\n",
    "df['Date'] = df['Date'].str.replace('2021', '21')\n",
    "df['Date'] = df['Date'].str.replace('2020', '20')\n",
    "df['Date'] = df['Date'].str.replace('2019', '19')  \n",
    "df['Date'] = df['Date'].str.replace('2018', '18')\n",
    "df['Date'] = df['Date'].str.replace('2017', '17')\n",
    "df['Date'] = df['Date'].str.replace('2016', '16')\n",
    "df['Date'] = df['Date'].str.replace('2015', '15')\n",
    "df['Date'] = df['Date'].str.replace('2014', '14')\n",
    "df['Date'] = df['Date'].str.replace('2013', '13')\n",
    "df['Date'] = df['Date'].str.replace('2012', '12')\n",
    "df['Date'] = df['Date'].str.replace('2011', '11')\n",
    "\n",
    "\n",
    "df.head()"
   ]
  },
  {
   "cell_type": "code",
   "execution_count": null,
   "metadata": {},
   "outputs": [],
   "source": [
    "# change values in Div column \n",
    "df['Div'] = df['Div'].str.replace('E0', 'Premier League')\n",
    "df['Div'] = df['Div'].str.replace('E1', 'Championship')\n",
    "df['Div'] = df['Div'].str.replace('E2', 'League One')\n",
    "df['Div'] = df['Div'].str.replace('E3', 'League Two')\n",
    "\n",
    "# convert date column to datetime with multiple formats\n",
    "df['Date'] = pd.to_datetime(df['Date'], format='%d/%m/%y')\n",
    "\n",
    "# sort by date and time\n",
    "df = df.sort_values(by=['Date', 'Time'], ascending=True)\n",
    "# reindex\n",
    "df = df.reset_index(drop=True)\n",
    "# add id column\n",
    "df['id'] = df.index\n",
    "\n",
    "\n",
    "print(df.shape)\n",
    "df.head()"
   ]
  },
  {
   "cell_type": "code",
   "execution_count": null,
   "metadata": {},
   "outputs": [],
   "source": [
    "# export to excel\n",
    "# df.to_excel(f'../../output/{date}-historic.xlsx', index=False)"
   ]
  },
  {
   "cell_type": "code",
   "execution_count": null,
   "metadata": {},
   "outputs": [],
   "source": [
    "\n",
    "points_map = {\n",
    "    'W': 3,\n",
    "    'D': 1,\n",
    "    'L': 0\n",
    "}\n",
    "\n",
    "# Results Function\n",
    "def get_result(score, score_opp):\n",
    "    if score == score_opp:\n",
    "        return 'D'\n",
    "    elif score > score_opp:\n",
    "        return 'W'\n",
    "    else:\n",
    "        return 'L'"
   ]
  },
  {
   "cell_type": "code",
   "execution_count": null,
   "metadata": {},
   "outputs": [],
   "source": [
    "df_matches['Opponent'] = np.where(\n",
    "    df_matches['home_away'] == 'H', \n",
    "    df_matches['AwayTeam'], \n",
    "    df_matches['HomeTeam']\n",
    "    )\n",
    "\n",
    "# create a column for goals scored\n",
    "df_matches['goals_scored'] = np.where(\n",
    "    df_matches['home_away'] == 'H',\n",
    "    df_matches['FTHG'],\n",
    "    df_matches['FTAG']\n",
    "    )\n",
    "# create a column for goals conceded\n",
    "df_matches['goals_conceded'] = np.where(\n",
    "    df_matches['home_away'] == 'H',\n",
    "    df_matches['FTAG'],\n",
    "    df_matches['FTHG']\n",
    "    )\n",
    "\n",
    "# create a column for result\n",
    "df_matches['result'] = np.vectorize(get_result)(\n",
    "    df_matches['goals_scored'], df_matches['goals_conceded'])\n",
    "\n",
    "# create a column for points\n",
    "df_matches['points'] = df_matches['result'].map(points_map)\n",
    "\n",
    "# sort by date descending and id ascending\n",
    "df_matches = df_matches.sort_values(by=['Date', 'id'], ascending=[False, True])\n",
    "\n",
    "# add a season column, season starts in August\n",
    "df_matches['season'] = np.where(\n",
    "    df_matches['Date'].dt.month >= 8,\n",
    "    df_matches['Date'].dt.year,\n",
    "    df_matches['Date'].dt.year - 1\n",
    "    )\n",
    "\n",
    "# reset index\n",
    "df_matches = df_matches.reset_index(drop=True)\n",
    "\n",
    "df_matches.head(30)\n"
   ]
  },
  {
   "cell_type": "code",
   "execution_count": null,
   "metadata": {},
   "outputs": [],
   "source": [
    "\n",
    "points_map = {\n",
    "    'W': 3,\n",
    "    'D': 1,\n",
    "    'L': 0\n",
    "}\n",
    "\n",
    "# Results Function\n",
    "def get_result(score, score_opp):\n",
    "    if score == score_opp:\n",
    "        return 'D'\n",
    "    elif score > score_opp:\n",
    "        return 'W'\n",
    "    else:\n",
    "        return 'L'"
   ]
  },
  {
   "cell_type": "code",
   "execution_count": null,
   "metadata": {},
   "outputs": [],
   "source": [
    "df_matches['Opponent'] = np.where(\n",
    "    df_matches['home_away'] == 'H', \n",
    "    df_matches['AwayTeam'], \n",
    "    df_matches['HomeTeam']\n",
    "    )\n",
    "\n",
    "# create a column for goals scored\n",
    "df_matches['goals_scored'] = np.where(\n",
    "    df_matches['home_away'] == 'H',\n",
    "    df_matches['FTHG'],\n",
    "    df_matches['FTAG']\n",
    "    )\n",
    "# create a column for goals conceded\n",
    "df_matches['goals_conceded'] = np.where(\n",
    "    df_matches['home_away'] == 'H',\n",
    "    df_matches['FTAG'],\n",
    "    df_matches['FTHG']\n",
    "    )\n",
    "\n",
    "# create a column for result\n",
    "df_matches['result'] = np.vectorize(get_result)(\n",
    "    df_matches['goals_scored'], df_matches['goals_conceded'])\n",
    "\n",
    "# create a column for points\n",
    "df_matches['points'] = df_matches['result'].map(points_map)\n",
    "\n",
    "# sort by date descending and id ascending\n",
    "df_matches = df_matches.sort_values(by=['Date', 'id'], ascending=[False, True])\n",
    "\n",
    "# add a season column, season starts in August\n",
    "df_matches['season'] = np.where(\n",
    "    df_matches['Date'].dt.month >= 8,\n",
    "    df_matches['Date'].dt.year,\n",
    "    df_matches['Date'].dt.year - 1\n",
    "    )\n",
    "\n",
    "# reset index\n",
    "df_matches = df_matches.reset_index(drop=True)\n",
    "\n",
    "df_matches.head(30)\n"
   ]
  }
 ],
 "metadata": {
  "kernelspec": {
   "display_name": ".venv",
   "language": "python",
   "name": "python3"
  },
  "language_info": {
   "codemirror_mode": {
    "name": "ipython",
    "version": 3
   },
   "file_extension": ".py",
   "mimetype": "text/x-python",
   "name": "python",
   "nbconvert_exporter": "python",
   "pygments_lexer": "ipython3",
   "version": "3.10.6"
  },
  "orig_nbformat": 4,
  "vscode": {
   "interpreter": {
    "hash": "b69205b795e377a91361a318335cb8c05d30eb8b1f8ca30482a311aa79b59f8e"
   }
  }
 },
 "nbformat": 4,
 "nbformat_minor": 2
}
