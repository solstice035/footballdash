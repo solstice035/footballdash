{
 "cells": [
  {
   "cell_type": "code",
   "execution_count": 2,
   "metadata": {},
   "outputs": [],
   "source": [
    "import requests\n",
    "import json\n",
    "import numpy as np\n",
    "import pandas as pd"
   ]
  },
  {
   "cell_type": "code",
   "execution_count": 14,
   "metadata": {},
   "outputs": [
    {
     "ename": "TypeError",
     "evalue": "dumps() missing 1 required positional argument: 'obj'",
     "output_type": "error",
     "traceback": [
      "\u001b[1;31m---------------------------------------------------------------------------\u001b[0m",
      "\u001b[1;31mTypeError\u001b[0m                                 Traceback (most recent call last)",
      "\u001b[1;32mc:\\Users\\2006431\\OneDrive - EY\\70-Dev\\01-Projects\\nufcDashboard\\code\\notebooks\\results_api-v2.ipynb Cell 2'\u001b[0m in \u001b[0;36m<cell line: 5>\u001b[1;34m()\u001b[0m\n\u001b[0;32m      <a href='vscode-notebook-cell:/c%3A/Users/2006431/OneDrive%20-%20EY/70-Dev/01-Projects/nufcDashboard/code/notebooks/results_api-v2.ipynb#ch0000001?line=1'>2</a>\u001b[0m headers \u001b[39m=\u001b[39m {\u001b[39m'\u001b[39m\u001b[39mX-Auth-Token\u001b[39m\u001b[39m'\u001b[39m: \u001b[39m'\u001b[39m\u001b[39m41febec7ab9f4556a48c9df439e1fe9c\u001b[39m\u001b[39m'\u001b[39m}\n\u001b[0;32m      <a href='vscode-notebook-cell:/c%3A/Users/2006431/OneDrive%20-%20EY/70-Dev/01-Projects/nufcDashboard/code/notebooks/results_api-v2.ipynb#ch0000001?line=3'>4</a>\u001b[0m response \u001b[39m=\u001b[39m requests\u001b[39m.\u001b[39mget(uri, headers\u001b[39m=\u001b[39mheaders)\n\u001b[1;32m----> <a href='vscode-notebook-cell:/c%3A/Users/2006431/OneDrive%20-%20EY/70-Dev/01-Projects/nufcDashboard/code/notebooks/results_api-v2.ipynb#ch0000001?line=4'>5</a>\u001b[0m data \u001b[39m=\u001b[39m response(json\u001b[39m.\u001b[39;49mdumps(indent\u001b[39m=\u001b[39;49m\u001b[39m2\u001b[39;49m))\n\u001b[0;32m      <a href='vscode-notebook-cell:/c%3A/Users/2006431/OneDrive%20-%20EY/70-Dev/01-Projects/nufcDashboard/code/notebooks/results_api-v2.ipynb#ch0000001?line=5'>6</a>\u001b[0m \u001b[39mprint\u001b[39m(data)\n",
      "\u001b[1;31mTypeError\u001b[0m: dumps() missing 1 required positional argument: 'obj'"
     ]
    }
   ],
   "source": [
    "uri = 'https://api.football-data.org/v4/teams/67/matches?status=FINISHED'\n",
    "headers = {'X-Auth-Token': '41febec7ab9f4556a48c9df439e1fe9c'}\n",
    "\n",
    "response = requests.get(uri, headers=headers)\n",
    "data = response(json.dumps(indent=2))\n",
    "print(data)\n",
    "# df = pd.json_normalize(data, 'matches')\n",
    "# df.head()\n",
    "    \n",
    "\n",
    "    build -t docker101tutorial .\n",
    "\n",
    "    docker run -d -p 80:80 --name docker-tutorial docker101tutorial"
   ]
  }
 ],
 "metadata": {
  "kernelspec": {
   "display_name": "Python 3.10.5 ('.venv': venv)",
   "language": "python",
   "name": "python3"
  },
  "language_info": {
   "codemirror_mode": {
    "name": "ipython",
    "version": 3
   },
   "file_extension": ".py",
   "mimetype": "text/x-python",
   "name": "python",
   "nbconvert_exporter": "python",
   "pygments_lexer": "ipython3",
   "version": "3.10.5"
  },
  "orig_nbformat": 4,
  "vscode": {
   "interpreter": {
    "hash": "b69205b795e377a91361a318335cb8c05d30eb8b1f8ca30482a311aa79b59f8e"
   }
  }
 },
 "nbformat": 4,
 "nbformat_minor": 2
}
